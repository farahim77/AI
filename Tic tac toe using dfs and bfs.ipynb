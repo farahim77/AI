{
 "cells": [
  {
   "cell_type": "markdown",
   "metadata": {
    "id": "VrQYGHmnpx4F"
   },
   "source": [
    "Farahim UE233038"
   ]
  },
  {
   "cell_type": "code",
   "execution_count": 1,
   "metadata": {
    "executionInfo": {
     "elapsed": 5,
     "status": "aborted",
     "timestamp": 1754980477573,
     "user": {
      "displayName": "FARAHIM",
      "userId": "16519321281537853392"
     },
     "user_tz": -330
    },
    "id": "SI6w1wpqldPm"
   },
   "outputs": [],
   "source": [
    "import queue"
   ]
  },
  {
   "cell_type": "code",
   "execution_count": 2,
   "metadata": {
    "executionInfo": {
     "elapsed": 6,
     "status": "aborted",
     "timestamp": 1754980477575,
     "user": {
      "displayName": "FARAHIM",
      "userId": "16519321281537853392"
     },
     "user_tz": -330
    },
    "id": "QSBay32fllne"
   },
   "outputs": [],
   "source": [
    "def print_board(board):\n",
    "    for row in board:\n",
    "        print(\" | \".join(row))\n",
    "        print(\"-\" * 9)"
   ]
  },
  {
   "cell_type": "code",
   "execution_count": 3,
   "metadata": {
    "executionInfo": {
     "elapsed": 7,
     "status": "aborted",
     "timestamp": 1754980477577,
     "user": {
      "displayName": "FARAHIM",
      "userId": "16519321281537853392"
     },
     "user_tz": -330
    },
    "id": "dMZRRiRMllzn"
   },
   "outputs": [],
   "source": [
    "def is_winner(board, player):\n",
    "    for row in board:\n",
    "        if all(cell == player for cell in row):\n",
    "            return True\n",
    "    for col in range(3):\n",
    "        if all(board[row][col] == player for row in range(3)):\n",
    "            return True\n",
    "    if all(board[i][i] == player for i in range(3)) or all(board[i][2 - i] == player for i in range(3)):\n",
    "        return True\n",
    "    return False"
   ]
  },
  {
   "cell_type": "code",
   "execution_count": 4,
   "metadata": {
    "executionInfo": {
     "elapsed": 7,
     "status": "aborted",
     "timestamp": 1754980477578,
     "user": {
      "displayName": "FARAHIM",
      "userId": "16519321281537853392"
     },
     "user_tz": -330
    },
    "id": "wKIFzSEZl1uE"
   },
   "outputs": [],
   "source": [
    "def is_draw(board):\n",
    "    for row in board:\n",
    "        if \" \" in row:\n",
    "            return False\n",
    "    return True"
   ]
  },
  {
   "cell_type": "code",
   "execution_count": 5,
   "metadata": {
    "executionInfo": {
     "elapsed": 21095,
     "status": "aborted",
     "timestamp": 1754980477579,
     "user": {
      "displayName": "FARAHIM",
      "userId": "16519321281537853392"
     },
     "user_tz": -330
    },
    "id": "rSQu2xNFl5ZY"
   },
   "outputs": [],
   "source": [
    "def is_valid_move(board, row, col):\n",
    "    return 0 <= row < 3 and 0 <= col < 3 and board[row][col] == \" \""
   ]
  },
  {
   "cell_type": "markdown",
   "metadata": {
    "id": "dla7-NmKp3oY"
   },
   "source": [
    "BFS"
   ]
  },
  {
   "cell_type": "code",
   "execution_count": 6,
   "metadata": {
    "executionInfo": {
     "elapsed": 21094,
     "status": "aborted",
     "timestamp": 1754980477580,
     "user": {
      "displayName": "FARAHIM",
      "userId": "16519321281537853392"
     },
     "user_tz": -330
    },
    "id": "m-2vA2wsl5lK"
   },
   "outputs": [],
   "source": [
    "def bfs_ai_move(board, player):\n",
    "    q = queue.Queue()\n",
    "    q.put(board)\n",
    "\n",
    "    while not q.empty():\n",
    "        current_board = q.get()\n",
    "\n",
    "        for row in range(3):\n",
    "            for col in range(3):\n",
    "                if current_board[row][col] == \" \":\n",
    "                    new_board = [row[:] for row in current_board]\n",
    "                    new_board[row][col] = player\n",
    "                    if is_winner(new_board, player):\n",
    "                        return row, col\n",
    "                    q.put(new_board)\n",
    "\n",
    "    return None"
   ]
  },
  {
   "cell_type": "code",
   "execution_count": null,
   "metadata": {
    "colab": {
     "base_uri": "https://localhost:8080/"
    },
    "collapsed": true,
    "executionInfo": {
     "elapsed": 140208,
     "status": "ok",
     "timestamp": 1754980669978,
     "user": {
      "displayName": "FARAHIM",
      "userId": "16519321281537853392"
     },
     "user_tz": -330
    },
    "id": "xboyHRqql5v_",
    "outputId": "103c69d7-c228-4193-ea18-5a70dc41e9d3"
   },
   "outputs": [],
   "source": [
    "def play_tic_tac_toe():\n",
    "    board = [[\" \" for _ in range(3)] for _ in range(3)]\n",
    "    players = [\"X\", \"O\"]\n",
    "    current_player = players[0]\n",
    "\n",
    "    while True:\n",
    "        print_board(board)\n",
    "\n",
    "        if current_player == \"X\":\n",
    "            row = int(input(f\"Enter row (0-2) for player X: \"))\n",
    "            col = int(input(f\"Enter column (0-2) for player X: \"))\n",
    "        else:\n",
    "            print(\"Player O (AI) is making a move...\")\n",
    "            ai_move = bfs_ai_move(board, current_player)\n",
    "            if ai_move:\n",
    "                row, col = ai_move\n",
    "            else:\n",
    "                print(\"AI couldn't find a winning move, making a random move.\")\n",
    "                # Implement a more advanced AI algorithm here.\n",
    "                row, col = 0, 0  # For simplicity, making a random move.\n",
    "\n",
    "        if is_valid_move(board, row, col):\n",
    "            board[row][col] = current_player\n",
    "\n",
    "            if is_winner(board, current_player):\n",
    "                print_board(board)\n",
    "                print(f\"Player {current_player} wins!\")\n",
    "                break\n",
    "\n",
    "            if is_draw(board):\n",
    "                print_board(board)\n",
    "                print(\"It's a draw!\")\n",
    "                break\n",
    "\n",
    "            current_player = players[1] if current_player == players[0] else players[0]\n",
    "\n",
    "        else:\n",
    "            print(\"Invalid move. Please try again.\")\n",
    "# main Function\n",
    "if __name__ == \"__main__\":\n",
    "    play_tic_tac_toe()"
   ]
  },
  {
   "cell_type": "markdown",
   "metadata": {
    "id": "iNWq8Bvdp7jR"
   },
   "source": [
    "DFS"
   ]
  },
  {
   "cell_type": "code",
   "execution_count": null,
   "metadata": {
    "executionInfo": {
     "elapsed": 165957,
     "status": "aborted",
     "timestamp": 1754980477544,
     "user": {
      "displayName": "FARAHIM",
      "userId": "16519321281537853392"
     },
     "user_tz": -330
    },
    "id": "j4HshnynnsbI"
   },
   "outputs": [],
   "source": [
    "def dfs_ai_move(board, player):\n",
    "    opponent = \"X\" if player == \"O\" else \"O\"\n",
    "    visited = set()\n",
    "\n",
    "    def dfs(current_board):\n",
    "        board_tuple = tuple(tuple(row) for row in current_board)\n",
    "        if board_tuple in visited:\n",
    "            return None\n",
    "        visited.add(board_tuple)\n",
    "\n",
    "        for row in range(3):\n",
    "            for col in range(3):\n",
    "                if current_board[row][col] == \" \":\n",
    "                    # Check for immediate win\n",
    "                    new_board = [r[:] for r in current_board]\n",
    "                    new_board[row][col] = player\n",
    "                    if is_winner(new_board, player):\n",
    "                        return (row, col)\n",
    "\n",
    "                    # Check if we need to block opponent\n",
    "                    test_board = [r[:] for r in current_board]\n",
    "                    test_board[row][col] = opponent\n",
    "                    if is_winner(test_board, opponent):\n",
    "                        return (row, col)\n",
    "\n",
    "                    result = dfs(new_board)\n",
    "                    if result:\n",
    "                        return result\n",
    "\n",
    "        return None\n",
    "\n",
    "    move = dfs(board)\n",
    "\n",
    "    if move:\n",
    "        return move\n",
    "\n",
    "    # No win/block found, pick best available (center, corners, sides)\n",
    "    preferred_moves = [(1, 1), (0, 0), (0, 2), (2, 0), (2, 2),\n",
    "                       (0, 1), (1, 0), (1, 2), (2, 1)]\n",
    "    for row, col in preferred_moves:\n",
    "        if board[row][col] == \" \":\n",
    "            return row, col\n",
    "\n",
    "    return None\n"
   ]
  },
  {
   "cell_type": "code",
   "execution_count": null,
   "metadata": {
    "executionInfo": {
     "elapsed": 165958,
     "status": "aborted",
     "timestamp": 1754980477549,
     "user": {
      "displayName": "FARAHIM",
      "userId": "16519321281537853392"
     },
     "user_tz": -330
    },
    "id": "W0RAJ4YwoLAG"
   },
   "outputs": [],
   "source": [
    "def play_tic_tac_toe():\n",
    "    board = [[\" \" for _ in range(3)] for _ in range(3)]\n",
    "    players = [\"X\", \"O\"]\n",
    "    current_player = players[0]\n",
    "\n",
    "    while True:\n",
    "        print_board(board)\n",
    "\n",
    "        if current_player == \"X\":\n",
    "            row = int(input(f\"Enter row (0-2) for player X: \"))\n",
    "            col = int(input(f\"Enter column (0-2) for player X: \"))\n",
    "        else:\n",
    "            print(\"Player O (AI) is making a move using DFS...\")\n",
    "            ai_move = dfs_ai_move(board, current_player)\n",
    "            if ai_move:\n",
    "                row, col = ai_move\n",
    "            else:\n",
    "                print(\"AI couldn't find a winning move, making a fallback move.\")\n",
    "                row, col = 0, 0  # fallback default (you can change this)\n",
    "\n",
    "        if is_valid_move(board, row, col):\n",
    "            board[row][col] = current_player\n",
    "\n",
    "            if is_winner(board, current_player):\n",
    "                print_board(board)\n",
    "                print(f\"Player {current_player} wins!\")\n",
    "                break\n",
    "\n",
    "            if is_draw(board):\n",
    "                print_board(board)\n",
    "                print(\"It's a draw!\")\n",
    "                break\n",
    "\n",
    "            current_player = players[1] if current_player == players[0] else players[0]\n",
    "        else:\n",
    "            print(\"Invalid move. Please try again.\")\n",
    "\n",
    "# MAIN\n",
    "if __name__ == \"__main__\":\n",
    "    play_tic_tac_toe()\n"
   ]
  }
 ],
 "metadata": {
  "colab": {
   "authorship_tag": "ABX9TyPIPeevo8/thhJ0XNpqg+X3",
   "provenance": []
  },
  "kernelspec": {
   "display_name": "Python 3",
   "name": "python3"
  },
  "language_info": {
   "codemirror_mode": {
    "name": "ipython",
    "version": 3
   },
   "file_extension": ".py",
   "mimetype": "text/x-python",
   "name": "python",
   "nbconvert_exporter": "python",
   "pygments_lexer": "ipython3",
   "version": "3.13.2"
  }
 },
 "nbformat": 4,
 "nbformat_minor": 0
}
